{
 "cells": [
  {
   "cell_type": "code",
   "execution_count": 18,
   "metadata": {},
   "outputs": [
    {
     "name": "stdout",
     "output_type": "stream",
     "text": [
      "Requirement already satisfied: SymPy in c:\\users\\manis\\appdata\\local\\packages\\pythonsoftwarefoundation.python.3.11_qbz5n2kfra8p0\\localcache\\local-packages\\python311\\site-packages (1.12)\n",
      "Requirement already satisfied: mpmath>=0.19 in c:\\users\\manis\\appdata\\local\\packages\\pythonsoftwarefoundation.python.3.11_qbz5n2kfra8p0\\localcache\\local-packages\\python311\\site-packages (from SymPy) (1.3.0)\n",
      "Collecting numpy\n",
      "  Obtaining dependency information for numpy from https://files.pythonhosted.org/packages/93/fd/3f826c6d15d3bdcf65b8031e4835c52b7d9c45add25efa2314b53850e1a2/numpy-1.26.0-cp311-cp311-win_amd64.whl.metadata\n",
      "  Downloading numpy-1.26.0-cp311-cp311-win_amd64.whl.metadata (61 kB)\n",
      "     ---------------------------------------- 0.0/61.1 kB ? eta -:--:--\n",
      "     ------------ ------------------------- 20.5/61.1 kB 640.0 kB/s eta 0:00:01\n",
      "     ------------------------- ------------ 41.0/61.1 kB 487.6 kB/s eta 0:00:01\n",
      "     -------------------------------------- 61.1/61.1 kB 540.9 kB/s eta 0:00:00\n",
      "Downloading numpy-1.26.0-cp311-cp311-win_amd64.whl (15.8 MB)\n",
      "   ---------------------------------------- 0.0/15.8 MB ? eta -:--:--\n",
      "   ---------------------------------------- 0.1/15.8 MB 2.2 MB/s eta 0:00:08\n",
      "   - -------------------------------------- 0.4/15.8 MB 4.4 MB/s eta 0:00:04\n",
      "   - -------------------------------------- 0.7/15.8 MB 5.2 MB/s eta 0:00:03\n",
      "   --- ------------------------------------ 1.3/15.8 MB 6.7 MB/s eta 0:00:03\n",
      "   ------- -------------------------------- 2.9/15.8 MB 12.5 MB/s eta 0:00:02\n",
      "   --------------- ------------------------ 6.3/15.8 MB 22.3 MB/s eta 0:00:01\n",
      "   ------------------------------ --------- 12.0/15.8 MB 81.8 MB/s eta 0:00:01\n",
      "   ------------------------------------ --- 14.5/15.8 MB 108.8 MB/s eta 0:00:01\n",
      "   -------------------------------------- - 15.3/15.8 MB 81.8 MB/s eta 0:00:01\n",
      "   ---------------------------------------  15.8/15.8 MB 65.6 MB/s eta 0:00:01\n",
      "   ---------------------------------------- 15.8/15.8 MB 50.4 MB/s eta 0:00:00\n",
      "Installing collected packages: numpy\n",
      "Successfully installed numpy-1.26.0\n"
     ]
    }
   ],
   "source": [
    "!pip3 install SymPy\n",
    "!pip3 install numpy"
   ]
  },
  {
   "cell_type": "code",
   "execution_count": 15,
   "metadata": {},
   "outputs": [],
   "source": [
    "from sympy import *\n",
    "x,y,z = symbols('x y z')\n",
    "init_printing()\n"
   ]
  },
  {
   "cell_type": "code",
   "execution_count": 16,
   "metadata": {},
   "outputs": [
    {
     "data": {
      "text/latex": [
       "$\\displaystyle \\int \\sqrt{\\frac{1}{x}}\\, dx$"
      ],
      "text/plain": [
       "⌠           \n",
       "⎮     ___   \n",
       "⎮    ╱ 1    \n",
       "⎮   ╱  ─  dx\n",
       "⎮ ╲╱   x    \n",
       "⌡           "
      ]
     },
     "execution_count": 16,
     "metadata": {},
     "output_type": "execute_result"
    }
   ],
   "source": [
    "Integral(sqrt(1/x),x)"
   ]
  },
  {
   "cell_type": "code",
   "execution_count": null,
   "metadata": {},
   "outputs": [],
   "source": [
    "class newton_raphson:\n",
    "    \n",
    "    def __init__(self,x):\n",
    "        self.value = x\n",
    "    \n",
    "    def function(self,x):\n",
    "        print(\"this\")\n",
    "        \n",
    "    def computey(self,x):\n",
    "        return x**3 - (10*x**2) + 5\n",
    "    \n",
    "    def computedy(self,x):\n",
    "        return 3*x**2 - 20*x\n",
    "    \n",
    "    def initiate(self):\n",
    "        target = 0.00001\n",
    "        x = self.value\n",
    "        count = 100\n",
    "        print(x)\n",
    "        while(count):\n",
    "            funx = self.computey(x)\n",
    "            fundx = self.computedy(x)\n",
    "            x = x - (funx/fundx)\n",
    "            print(x)\n",
    "            count-=1\n",
    "\n",
    "func = newton_raphson(0.6)\n",
    "func.initiate()\n",
    "#note the float round off error which is common in higher precision computing in python \n",
    "\n"
   ]
  },
  {
   "cell_type": "markdown",
   "metadata": {},
   "source": [
    "This code cell will use the SymPy library to solve for roots using Newton Ralphson for one function \n",
    "\n"
   ]
  },
  {
   "cell_type": "code",
   "execution_count": 6,
   "metadata": {},
   "outputs": [
    {
     "name": "stdout",
     "output_type": "stream",
     "text": [
      "-17\n",
      "The function entered is \n",
      "  3       2    \n",
      "x  - 10⋅x  + 5\n",
      "Its first-order derivative is \n",
      "    2       \n",
      "3⋅x  - 20⋅x\n",
      "Now let's compute the roots\n",
      "0.747985347985348\n",
      "0.734708264366431\n",
      "0.734603514332636\n",
      "0.734603507789303\n",
      "0.734603507789303\n"
     ]
    }
   ],
   "source": [
    "from sympy import *\n",
    "\n",
    "def first_order_differential(expression, variable):\n",
    "    x = symbols(variable)\n",
    "    f = sympify(expression)\n",
    "    df = diff(f, x)\n",
    "    return f, df\n",
    "\n",
    "def findroots(expression, variable):\n",
    "    curve = 0.00000000000000\n",
    "    x_value = 0.6\n",
    "    count = 0\n",
    "    f, df = first_order_differential(expression, variable)\n",
    "    while abs(f.subs(variable, x_value)) != curve:\n",
    "        x_value = x_value - (f.subs(variable, x_value) / df.subs(variable, x_value))\n",
    "        count += 1\n",
    "        print(x_value)\n",
    "        if count > 1000:  \n",
    "            print(\"Maximum iteration limit reached.\")\n",
    "            break\n",
    "    print(x_value)\n",
    "\n",
    "expression = \"x**3 - (10*x**2) + 5\"\n",
    "variable = \"x\"\n",
    "\n",
    "f, df = first_order_differential(expression, variable)\n",
    "print(df.subs(variable, 1))\n",
    "print(f\"The function entered is \\n {pretty(f)}\")\n",
    "print(f\"Its first-order derivative is \\n {pretty(df)}\")\n",
    "print(\"Now let's compute the roots\")\n",
    "findroots(expression, variable)\n",
    "\n"
   ]
  },
  {
   "cell_type": "markdown",
   "metadata": {},
   "source": [
    "Now performing newton raphsons on system of equations "
   ]
  },
  {
   "cell_type": "code",
   "execution_count": 28,
   "metadata": {},
   "outputs": [
    {
     "name": "stdout",
     "output_type": "stream",
     "text": [
      "System of Equations:\n",
      "⎡ 2    2             ⎤\n",
      "⎣x  + y  - 3, x⋅y - 1⎦\n",
      "Jacobian matrix for System of Equations: \n",
      "[[2⋅x, 2⋅y], [y, x]]\n",
      "Converged after 4 iterations.\n",
      "Result:\n",
      "(0.6180339887498948, 1.618033988749895)\n"
     ]
    }
   ],
   "source": [
    "import numpy as np\n",
    "from sympy import *\n",
    "\n",
    "def newton_raphson_SoE(equations_str, variables_str,x,y):\n",
    "    # Initial values\n",
    "    x_value = x\n",
    "    y_value = y\n",
    "    \n",
    "    # Defining Maximum number of iterations\n",
    "    max_iterations = 100\n",
    "    \n",
    "    for i in range(max_iterations):\n",
    "        # Substituting values into equations\n",
    "        eq_substituted = [eq.subs({variable_symbols[0]: x_value, variable_symbols[1]: y_value}) for eq in equations]\n",
    "        \n",
    "        # Computing Jacobian matrix\n",
    "        J = [[eq.diff(var) for var in variable_symbols] for eq in equations]\n",
    "        \n",
    "        # Evaluating equations\n",
    "        eq_evaluated = [eq.evalf(subs={variable_symbols[0]: x_value, variable_symbols[1]: y_value}) for eq in eq_substituted]\n",
    "        \n",
    "        # Evaluating Jacobian matrix\n",
    "        J_evaluated = [[entry.evalf(subs={variable_symbols[0]: x_value, variable_symbols[1]: y_value})\n",
    "                        for entry in row] for row in J]#note: entry.eval found to be diminishing the round off error of floats \n",
    "        \n",
    "        # Converting the Jacobian matrix to numpy array for numerical computations\n",
    "        J_evaluated = np.array(J_evaluated, dtype=float)\n",
    "        \n",
    "        # Computing the increment\n",
    "        try:\n",
    "            increment = np.linalg.solve(J_evaluated, -np.array(eq_evaluated, dtype=float))\n",
    "        except np.linalg.LinAlgError:\n",
    "            print(\"Singular Jacobian matrix. Unable to continue.\")\n",
    "            return None\n",
    "        \n",
    "        # Updating values\n",
    "        x_value += increment[0]\n",
    "        y_value += increment[1]\n",
    "        \n",
    "        # Checking for convergence\n",
    "        if abs(increment[0]) < 1e-6 and abs(increment[1]) < 1e-6:\n",
    "            print(f\"Converged after {i + 1} iterations.\")\n",
    "            return x_value, y_value\n",
    "    \n",
    "    print(\"Maximum iterations reached. Convergence not achieved.\")\n",
    "    return None\n",
    "\n",
    "# Example discussed in class\n",
    "equations_str = [\"x**2 + y**2 - 3\", \"x*y - 1\"]#pass in as strings to dynamically generate the variables \n",
    "variables_str = \"x y\"#passing as strings because the sympy symbols defining function take input as string\n",
    "x = 0.5\n",
    "y = 1.5\n",
    "\n",
    "# Parsing equations and variable symbols\n",
    "equations = [sympify(eq) for eq in equations_str]\n",
    "variable_symbols = symbols(variables_str)\n",
    "\n",
    "# Printing equations\n",
    "print(\"System of Equations:\")\n",
    "pprint(equations)\n",
    "J = [[eq.diff(var) for var in variable_symbols] for eq in equations]\n",
    "print(\"Jacobian matrix for System of Equations: \")\n",
    "pprint(J)\n",
    "\n",
    "result = newton_raphson_SoE(equations, variable_symbols,x,y)\n",
    "print(\"Result:\")\n",
    "print(result)\n"
   ]
  },
  {
   "cell_type": "code",
   "execution_count": 26,
   "metadata": {},
   "outputs": [],
   "source": [
    "equations_str = [\"x**2 + y**2 - 3\", \"x*y - 1\"]\n",
    "variables_str = \"x y\"\n",
    "\n",
    "# Parse equations and variable symbols\n",
    "equations = [sympify(eq) for eq in equations_str]\n",
    "variable_symbols = symbols(variables_str)\n",
    "x_value = 0.5\n",
    "y_value = 1.5\n",
    "\n"
   ]
  },
  {
   "cell_type": "markdown",
   "metadata": {},
   "source": []
  }
 ],
 "metadata": {
  "kernelspec": {
   "display_name": "Python 3",
   "language": "python",
   "name": "python3"
  },
  "language_info": {
   "codemirror_mode": {
    "name": "ipython",
    "version": 3
   },
   "file_extension": ".py",
   "mimetype": "text/x-python",
   "name": "python",
   "nbconvert_exporter": "python",
   "pygments_lexer": "ipython3",
   "version": "3.11.5"
  },
  "orig_nbformat": 4
 },
 "nbformat": 4,
 "nbformat_minor": 2
}
