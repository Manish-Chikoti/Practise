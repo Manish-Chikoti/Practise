{
 "cells": [
  {
   "cell_type": "code",
   "execution_count": 1,
   "metadata": {},
   "outputs": [
    {
     "name": "stdout",
     "output_type": "stream",
     "text": [
      "Requirement already satisfied: SymPy in c:\\users\\manis\\appdata\\local\\packages\\pythonsoftwarefoundation.python.3.11_qbz5n2kfra8p0\\localcache\\local-packages\\python311\\site-packages (1.12)\n",
      "Requirement already satisfied: mpmath>=0.19 in c:\\users\\manis\\appdata\\local\\packages\\pythonsoftwarefoundation.python.3.11_qbz5n2kfra8p0\\localcache\\local-packages\\python311\\site-packages (from SymPy) (1.3.0)\n"
     ]
    }
   ],
   "source": [
    "!pip3 install SymPy"
   ]
  },
  {
   "cell_type": "code",
   "execution_count": 15,
   "metadata": {},
   "outputs": [],
   "source": [
    "from sympy import *\n",
    "x,y,z = symbols('x y z')\n",
    "init_printing()\n"
   ]
  },
  {
   "cell_type": "code",
   "execution_count": 16,
   "metadata": {},
   "outputs": [
    {
     "data": {
      "text/latex": [
       "$\\displaystyle \\int \\sqrt{\\frac{1}{x}}\\, dx$"
      ],
      "text/plain": [
       "⌠           \n",
       "⎮     ___   \n",
       "⎮    ╱ 1    \n",
       "⎮   ╱  ─  dx\n",
       "⎮ ╲╱   x    \n",
       "⌡           "
      ]
     },
     "execution_count": 16,
     "metadata": {},
     "output_type": "execute_result"
    }
   ],
   "source": [
    "Integral(sqrt(1/x),x)"
   ]
  },
  {
   "cell_type": "code",
   "execution_count": null,
   "metadata": {},
   "outputs": [],
   "source": [
    "class newton_raphson:\n",
    "    \n",
    "    def __init__(self,x):\n",
    "        self.value = x\n",
    "    \n",
    "    def function(self,x):\n",
    "        print(\"this\")\n",
    "        \n",
    "    def computey(self,x):\n",
    "        return x**3 - (10*x**2) + 5\n",
    "    \n",
    "    def computedy(self,x):\n",
    "        return 3*x**2 - 20*x\n",
    "    \n",
    "    def initiate(self):\n",
    "        target = 0.00001\n",
    "        x = self.value\n",
    "        count = 100\n",
    "        print(x)\n",
    "        while(count):\n",
    "            funx = self.computey(x)\n",
    "            fundx = self.computedy(x)\n",
    "            x = x - (funx/fundx)\n",
    "            print(x)\n",
    "            count-=1\n",
    "\n",
    "func = newton_raphson(0.6)\n",
    "func.initiate()\n",
    "#note the float round off error which is common in higher precision computing in python \n",
    "\n"
   ]
  },
  {
   "cell_type": "markdown",
   "metadata": {},
   "source": [
    "This code cell will use the SymPy library to solve for roots using Newton Ralphson for one function \n",
    "\n"
   ]
  },
  {
   "cell_type": "code",
   "execution_count": 6,
   "metadata": {},
   "outputs": [
    {
     "name": "stdout",
     "output_type": "stream",
     "text": [
      "-17\n",
      "The function entered is \n",
      "  3       2    \n",
      "x  - 10⋅x  + 5\n",
      "Its first-order derivative is \n",
      "    2       \n",
      "3⋅x  - 20⋅x\n",
      "Now let's compute the roots\n",
      "0.747985347985348\n",
      "0.734708264366431\n",
      "0.734603514332636\n",
      "0.734603507789303\n",
      "0.734603507789303\n"
     ]
    }
   ],
   "source": [
    "from sympy import *\n",
    "\n",
    "def first_order_differential(expression, variable):\n",
    "    x = symbols(variable)\n",
    "    f = sympify(expression)\n",
    "    df = diff(f, x)\n",
    "    return f, df\n",
    "\n",
    "def findroots(expression, variable):\n",
    "    curve = 0.00000000000000\n",
    "    x_value = 0.6\n",
    "    count = 0\n",
    "    f, df = first_order_differential(expression, variable)\n",
    "    while abs(f.subs(variable, x_value)) != curve:\n",
    "        x_value = x_value - (f.subs(variable, x_value) / df.subs(variable, x_value))\n",
    "        count += 1\n",
    "        print(x_value)\n",
    "        if count > 1000:  \n",
    "            print(\"Maximum iteration limit reached.\")\n",
    "            break\n",
    "    print(x_value)\n",
    "\n",
    "expression = \"x**3 - (10*x**2) + 5\"\n",
    "variable = \"x\"\n",
    "\n",
    "f, df = first_order_differential(expression, variable)\n",
    "print(df.subs(variable, 1))\n",
    "print(f\"The function entered is \\n {pretty(f)}\")\n",
    "print(f\"Its first-order derivative is \\n {pretty(df)}\")\n",
    "print(\"Now let's compute the roots\")\n",
    "findroots(expression, variable)\n",
    "\n"
   ]
  },
  {
   "cell_type": "markdown",
   "metadata": {},
   "source": []
  }
 ],
 "metadata": {
  "kernelspec": {
   "display_name": "Python 3",
   "language": "python",
   "name": "python3"
  },
  "language_info": {
   "codemirror_mode": {
    "name": "ipython",
    "version": 3
   },
   "file_extension": ".py",
   "mimetype": "text/x-python",
   "name": "python",
   "nbconvert_exporter": "python",
   "pygments_lexer": "ipython3",
   "version": "3.11.5"
  },
  "orig_nbformat": 4
 },
 "nbformat": 4,
 "nbformat_minor": 2
}
