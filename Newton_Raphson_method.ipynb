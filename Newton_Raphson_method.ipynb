{
 "cells": [
  {
   "cell_type": "code",
   "execution_count": 1,
   "metadata": {},
   "outputs": [
    {
     "name": "stdout",
     "output_type": "stream",
     "text": [
      "Requirement already satisfied: SymPy in c:\\users\\manis\\appdata\\local\\packages\\pythonsoftwarefoundation.python.3.11_qbz5n2kfra8p0\\localcache\\local-packages\\python311\\site-packages (1.12)\n",
      "Requirement already satisfied: mpmath>=0.19 in c:\\users\\manis\\appdata\\local\\packages\\pythonsoftwarefoundation.python.3.11_qbz5n2kfra8p0\\localcache\\local-packages\\python311\\site-packages (from SymPy) (1.3.0)\n"
     ]
    }
   ],
   "source": [
    "!pip3 install SymPy"
   ]
  },
  {
   "cell_type": "code",
   "execution_count": 15,
   "metadata": {},
   "outputs": [],
   "source": [
    "from sympy import *\n",
    "x,y,z = symbols('x y z')\n",
    "init_printing()\n"
   ]
  },
  {
   "cell_type": "code",
   "execution_count": 16,
   "metadata": {},
   "outputs": [
    {
     "data": {
      "text/latex": [
       "$\\displaystyle \\int \\sqrt{\\frac{1}{x}}\\, dx$"
      ],
      "text/plain": [
       "⌠           \n",
       "⎮     ___   \n",
       "⎮    ╱ 1    \n",
       "⎮   ╱  ─  dx\n",
       "⎮ ╲╱   x    \n",
       "⌡           "
      ]
     },
     "execution_count": 16,
     "metadata": {},
     "output_type": "execute_result"
    }
   ],
   "source": [
    "Integral(sqrt(1/x),x)"
   ]
  },
  {
   "cell_type": "code",
   "execution_count": 18,
   "metadata": {},
   "outputs": [],
   "source": [
    "class Grad(Expr):\n",
    "    def __mul__(self, other):\n",
    "        return other.diff(*self.args)\n",
    "    def _latex(self, printer):\n",
    "        # create a latex representation to be visualize in Jupyter Notebook\n",
    "        return r\"\\frac{\\partial}{%s}\" % \" \".join([r\"\\partial %s\" % latex(t) for t in self.args])"
   ]
  },
  {
   "cell_type": "code",
   "execution_count": 20,
   "metadata": {},
   "outputs": [
    {
     "name": "stdout",
     "output_type": "stream",
     "text": [
      "\\frac{\\partial}{\\partial x}\n"
     ]
    }
   ],
   "source": [
    "U = Grad(x)\n",
    "print(U._latex(x))"
   ]
  },
  {
   "cell_type": "code",
   "execution_count": 5,
   "metadata": {},
   "outputs": [
    {
     "name": "stdout",
     "output_type": "stream",
     "text": [
      "0.6\n",
      "0.747985347985348\n",
      "0.7347082643664307\n",
      "0.7346035143326365\n"
     ]
    }
   ],
   "source": [
    "class newton_raphson:\n",
    "    \n",
    "    def __init__(self,x):\n",
    "        self.value = x\n",
    "    \n",
    "    def function(self,x):\n",
    "        print(\"this\")\n",
    "        \n",
    "    def computey(self,x):\n",
    "        return x**3 - (10*x**2) + 5\n",
    "    \n",
    "    def computedy(self,x):\n",
    "        return 3*x**2 - 20*x\n",
    "    \n",
    "    def initiate(self):\n",
    "        target = 0.00001\n",
    "        x = self.value\n",
    "        count = 3\n",
    "        print(x)\n",
    "        while(count):\n",
    "            funx = self.computey(x)\n",
    "            fundx = self.computedy(x)\n",
    "            x = x - (funx/fundx)\n",
    "            print(x)\n",
    "            count-=1\n",
    "\n",
    "func = newton_raphson(0.6)\n",
    "func.initiate()\n",
    "\n"
   ]
  },
  {
   "cell_type": "code",
   "execution_count": null,
   "metadata": {},
   "outputs": [],
   "source": []
  }
 ],
 "metadata": {
  "kernelspec": {
   "display_name": "Python 3",
   "language": "python",
   "name": "python3"
  },
  "language_info": {
   "codemirror_mode": {
    "name": "ipython",
    "version": 3
   },
   "file_extension": ".py",
   "mimetype": "text/x-python",
   "name": "python",
   "nbconvert_exporter": "python",
   "pygments_lexer": "ipython3",
   "version": "3.11.5"
  },
  "orig_nbformat": 4
 },
 "nbformat": 4,
 "nbformat_minor": 2
}
